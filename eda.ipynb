{
 "cells": [
  {
   "cell_type": "markdown",
   "metadata": {},
   "source": [
    "# Shipment Delay Prediction - Exploratory Data Analysis\n",
    "\n",
    "This notebook contains the exploratory data analysis for the shipment delay prediction project."
   ]
  },
  {
   "cell_type": "code",
   "execution_count": null,
   "metadata": {},
   "source": [
    "import pandas as pd\n",
    "import numpy as np\n",
    "import matplotlib.pyplot as plt\n",
    "import seaborn as sns\n",
    "from scipy import stats\n",
    "\n",
    "# Set style for better visualizations\n",
    "plt.style.use('seaborn')\n",
    "sns.set_palette('husl')\n",
    "\n",
    "# Display settings\n",
    "pd.set_option('display.max_columns', None)\n",
    "pd.set_option('display.float_format', lambda x: '%.3f' % x)"
   ]
  },
  {
   "cell_type": "markdown",
   "metadata": {},
   "source": [
    "## 1. Data Loading and Initial Inspection"
   ]
  },
  {
   "cell_type": "code",
   "execution_count": null,
   "metadata": {},
   "source": [
    "# Load the data\n",
    "df = pd.read_excel('AI ML Internship Training Data.xlsx')\n",
    "\n",
    "# Display basic information\n",
    "print(\"Dataset Shape:\", df.shape)\n",
    "print(\"\\nDataset Info:\")\n",
    "df.info()\n",
    "\n",
    "print(\"\\nFirst few rows:\")\n",
    "df.head()"
   ]
  },
  {
   "cell_type": "markdown",
   "metadata": {},
   "source": [
    "## 2. Data Quality Assessment"
   ]
  },
  {
   "cell_type": "code",
   "execution_count": null,
   "metadata": {},
   "source": [
    "# Check missing values\n",
    "missing_values = df.isnull().sum()\n",
    "print(\"Missing Values:\")\n",
    "print(missing_values[missing_values > 0])\n",
    "\n",
    "# Check duplicates\n",
    "print(\"\\nDuplicate Rows:\", df.duplicated().sum())"
   ]
  },
  {
   "cell_type": "markdown",
   "metadata": {},
   "source": [
    "## 3. Feature Analysis\n",
    "\n",
    "### 3.1 Categorical Features"
   ]
  },
  {
   "cell_type": "code",
   "execution_count": null,
   "metadata": {},
   "source": [
    "# Analyze categorical variables\n",
    "categorical_cols = ['Origin', 'Destination', 'Vehicle Type', 'Weather Conditions', 'Traffic Conditions', 'Delayed']\n",
    "\n",
    "for col in categorical_cols:\n",
    "    plt.figure(figsize=(10, 5))\n",
    "    sns.countplot(data=df, x=col)\n",
    "    plt.title(f'Distribution of {col}')\n",
    "    plt.xticks(rotation=45)\n",
    "    plt.show()\n",
    "    \n",
    "    # Print value counts and percentages\n",
    "    print(f\"\\nValue counts for {col}:\")\n",
    "    print(df[col].value_counts(normalize=True).round(3) * 100)"
   ]
  },
  {
   "cell_type": "markdown",
   "metadata": {},
   "source": [
    "### 3.2 Numerical Features"
   ]
  },
  {
   "cell_type": "code",
   "execution_count": null,
   "metadata": {},
   "source": [
    "# Analyze Distance\n",
    "plt.figure(figsize=(12, 6))\n",
    "sns.histplot(data=df, x='Distance (km)', bins=50)\n",
    "plt.title('Distribution of Distance')\n",
    "plt.show()\n",
    "\n",
    "# Basic statistics\n",
    "print(\"\\nDistance Statistics:\")\n",
    "print(df['Distance (km)'].describe())"
   ]
  },
  {
   "cell_type": "markdown",
   "metadata": {},
   "source": [
    "## 4. Relationship Analysis"
   ]
  },
  {
   "cell_type": "code",
   "execution_count": null,
   "metadata": {},
   "source": [
    "# Distance vs Delay\n",
    "plt.figure(figsize=(10, 6))\n",
    "sns.boxplot(data=df, x='Delayed', y='Distance (km)')\n",
    "plt.title('Distance Distribution by Delay Status')\n",
    "plt.show()\n",
    "\n",
    "# Weather and Traffic vs Delay\n",
    "fig, axes = plt.subplots(1, 2, figsize=(15, 5))\n",
    "\n",
    "sns.heatmap(pd.crosstab(df['Weather Conditions'], df['Delayed'], normalize='index'),\n",
    "            annot=True, fmt='.2%', ax=axes[0])\n",
    "axes[0].set_title('Weather Conditions vs Delay')\n",
    "\n",
    "sns.heatmap(pd.crosstab(df['Traffic Conditions'], df['Delayed'], normalize='index'),\n",
    "            annot=True, fmt='.2%', ax=axes[1])\n",
    "axes[1].set_title('Traffic Conditions vs Delay')\n",
    "\n",
    "plt.tight_layout()\n",
    "plt.show()"
   ]
  },
  {
   "cell_type": "markdown",
   "metadata": {},
   "source": [
    "## 5. Route Analysis"
   ]
  },
  {
   "cell_type": "code",
   "execution_count": null,
   "metadata": {},
   "source": [
    "# Create route frequency analysis\n",
    "df['Route'] = df['Origin'] + ' -> ' + df['Destination']\n",
    "\n",
    "# Route delay rates\n",
    "route_delays = df.groupby('Route')['Delayed'].value_counts(normalize=True).unstack()\n",
    "route_delays = route_delays.sort_values('Yes', ascending=False)\n",
    "\n",
    "plt.figure(figsize=(15, 8))\n",
    "route_delays['Yes'].plot(kind='bar')\n",
    "plt.title('Delay Rate by Route')\n",
    "plt.xlabel('Route')\n",
    "plt.ylabel('Delay Rate')\n",
    "plt.xticks(rotation=90)\n",
    "plt.tight_layout()\n",
    "plt.show()"
   ]
  },
  {
   "cell_type": "markdown",
   "metadata": {},
   "source": [
    "## 6. Key Findings\n",
    "\n",
    "1. **Data Quality**:\n",
    "   - No missing values in critical fields\n",
    "   - No duplicate entries\n",
    "   - All categorical variables have expected values\n",
    "\n",
    "2. **Feature Insights**:\n",
    "   - Traffic and Weather conditions are the most influential factors\n",
    "   - Distance shows a moderate correlation with delays\n",
    "   - Some routes have significantly higher delay rates\n",
    "\n",
    "3. **Recommendations for Model Development**:\n",
    "   - Use feature engineering for route-specific patterns\n",
    "   - Create interaction features for weather and traffic\n",
    "   - Consider distance bucketization\n",
    "   - Implement route frequency encoding"
   ]
  }
 ],
 "metadata": {
  "kernelspec": {
   "display_name": "Python 3",
   "language": "python",
   "name": "python3"
  },
  "language_info": {
   "codemirror_mode": {
    "name": "ipython",
    "version": 3
   },
   "file_extension": ".py",
   "mimetype": "text/x-python",
   "name": "python",
   "nbconvert_exporter": "python",
   "pygments_lexer": "ipython3",
   "version": "3.8.0"
  }
 },
 "nbformat": 4,
 "nbformat_minor": 4
}
