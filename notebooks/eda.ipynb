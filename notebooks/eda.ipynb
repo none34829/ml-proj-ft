{
 "cells": [
  {
   "cell_type": "markdown",
   "metadata": {},
   "source": [
    "# Shipment Delay Prediction - Exploratory Data Analysis\n",
    "\n",
    "This notebook performs comprehensive exploratory data analysis on the shipment delay dataset to understand patterns, relationships, and potential features for our prediction model."
   ]
  },
  {
   "cell_type": "code",
   "execution_count": null,
   "metadata": {},
   "source": [
    "import pandas as pd\n",
    "import numpy as np\n",
    "import matplotlib.pyplot as plt\n",
    "import seaborn as sns\n",
    "from scipy import stats\n",
    "import warnings\n",
    "warnings.filterwarnings('ignore')\n",
    "\n",
    "# Set style for better visualizations\n",
    "plt.style.use('seaborn')\n",
    "sns.set_palette('husl')\n",
    "plt.rcParams['figure.figsize'] = [12, 8]\n",
    "plt.rcParams['figure.dpi'] = 100"
   ]
  },
  {
   "cell_type": "markdown",
   "metadata": {},
   "source": [
    "## 1. Data Loading and Initial Inspection"
   ]
  },
  {
   "cell_type": "code",
   "execution_count": null,
   "metadata": {},
   "source": [
    "# Load the dataset\n",
    "df = pd.read_csv('../data/shipment_data.csv')\n",
    "\n",
    "# Display basic information\n",
    "print(\"Dataset Shape:\", df.shape)\n",
    "print(\"\\nDataset Info:\")\n",
    "df.info()\n",
    "\n",
    "print(\"\\nFirst few rows:\")\n",
    "df.head()"
   ]
  },
  {
   "cell_type": "markdown",
   "metadata": {},
   "source": [
    "## 2. Missing Value Analysis"
   ]
  },
  {
   "cell_type": "code",
   "execution_count": null,
   "metadata": {},
   "source": [
    "def analyze_missing_values(df):\n",
    "    # Calculate missing values\n",
    "    missing = df.isnull().sum()\n",
    "    missing_percent = (missing / len(df)) * 100\n",
    "    missing_df = pd.DataFrame({\n",
    "        'Missing Values': missing,\n",
    "        'Percentage': missing_percent\n",
    "    }).sort_values('Percentage', ascending=False)\n",
    "    \n",
    "    # Plot missing values\n",
    "    plt.figure(figsize=(12, 6))\n",
    "    plt.bar(range(len(missing_df)), missing_df['Percentage'])\n",
    "    plt.xticks(range(len(missing_df)), missing_df.index, rotation=45, ha='right')\n",
    "    plt.title('Missing Values by Feature')\n",
    "    plt.xlabel('Features')\n",
    "    plt.ylabel('Missing Percentage')\n",
    "    plt.tight_layout()\n",
    "    plt.show()\n",
    "    \n",
    "    return missing_df\n",
    "\n",
    "missing_analysis = analyze_missing_values(df)\n",
    "print(\"\\nMissing Value Analysis:\")\n",
    "print(missing_analysis)"
   ]
  },
  {
   "cell_type": "markdown",
   "metadata": {},
   "source": [
    "## 3. Feature Distribution Analysis"
   ]
  },
  {
   "cell_type": "code",
   "execution_count": null,
   "metadata": {},
   "source": [
    "def plot_numerical_distributions(df):\n",
    "    numerical_cols = df.select_dtypes(include=['int64', 'float64']).columns\n",
    "    n_cols = len(numerical_cols)\n",
    "    n_rows = (n_cols + 2) // 3\n",
    "    \n",
    "    fig, axes = plt.subplots(n_rows, 3, figsize=(15, 5*n_rows))\n",
    "    axes = axes.ravel()\n",
    "    \n",
    "    for idx, col in enumerate(numerical_cols):\n",
    "        sns.histplot(data=df, x=col, kde=True, ax=axes[idx])\n",
    "        axes[idx].set_title(f'Distribution of {col}')\n",
    "    \n",
    "    plt.tight_layout()\n",
    "    plt.show()\n",
    "\n",
    "def plot_categorical_distributions(df):\n",
    "    categorical_cols = df.select_dtypes(include=['object']).columns\n",
    "    \n",
    "    for col in categorical_cols:\n",
    "        plt.figure(figsize=(12, 6))\n",
    "        value_counts = df[col].value_counts()\n",
    "        sns.barplot(x=value_counts.index, y=value_counts.values)\n",
    "        plt.title(f'Distribution of {col}')\n",
    "        plt.xticks(rotation=45, ha='right')\n",
    "        plt.tight_layout()\n",
    "        plt.show()\n",
    "\n",
    "print(\"Numerical Feature Distributions:\")\n",
    "plot_numerical_distributions(df)\n",
    "\n",
    "print(\"\\nCategorical Feature Distributions:\")\n",
    "plot_categorical_distributions(df)"
   ]
  },
  {
   "cell_type": "markdown",
   "metadata": {},
   "source": [
    "## 4. Correlation Analysis"
   ]
  },
  {
   "cell_type": "code",
   "execution_count": null,
   "metadata": {},
   "source": [
    "# Correlation matrix for numerical features\n",
    "numerical_cols = df.select_dtypes(include=['int64', 'float64']).columns\n",
    "correlation_matrix = df[numerical_cols].corr()\n",
    "\n",
    "plt.figure(figsize=(12, 10))\n",
    "sns.heatmap(correlation_matrix, annot=True, cmap='coolwarm', center=0)\n",
    "plt.title('Correlation Matrix of Numerical Features')\n",
    "plt.tight_layout()\n",
    "plt.show()"
   ]
  },
  {
   "cell_type": "markdown",
   "metadata": {},
   "source": [
    "## 5. Target Variable Analysis"
   ]
  },
  {
   "cell_type": "code",
   "execution_count": null,
   "metadata": {},
   "source": [
    "def analyze_target_variable(df):\n",
    "    # Target distribution\n",
    "    plt.figure(figsize=(10, 6))\n",
    "    sns.countplot(data=df, x='Delayed')\n",
    "    plt.title('Distribution of Shipment Delays')\n",
    "    plt.show()\n",
    "    \n",
    "    # Target vs numerical features\n",
    "    numerical_cols = df.select_dtypes(include=['int64', 'float64']).columns\n",
    "    numerical_cols = numerical_cols.drop('Delayed') if 'Delayed' in numerical_cols else numerical_cols\n",
    "    \n",
    "    for col in numerical_cols:\n",
    "        plt.figure(figsize=(10, 6))\n",
    "        sns.boxplot(data=df, x='Delayed', y=col)\n",
    "        plt.title(f'Delay Status vs {col}')\n",
    "        plt.show()\n",
    "    \n",
    "    # Target vs categorical features\n",
    "    categorical_cols = df.select_dtypes(include=['object']).columns\n",
    "    \n",
    "    for col in categorical_cols:\n",
    "        plt.figure(figsize=(12, 6))\n",
    "        delay_rates = df.groupby(col)['Delayed'].mean().sort_values(ascending=False)\n",
    "        sns.barplot(x=delay_rates.index, y=delay_rates.values)\n",
    "        plt.title(f'Delay Rate by {col}')\n",
    "        plt.xticks(rotation=45, ha='right')\n",
    "        plt.tight_layout()\n",
    "        plt.show()\n",
    "\n",
    "analyze_target_variable(df)"
   ]
  },
  {
   "cell_type": "markdown",
   "metadata": {},
   "source": [
    "## 6. Outlier Detection"
   ]
  },
  {
   "cell_type": "code",
   "execution_count": null,
   "metadata": {},
   "source": [
    "def detect_outliers(df):\n",
    "    numerical_cols = df.select_dtypes(include=['int64', 'float64']).columns\n",
    "    \n",
    "    for col in numerical_cols:\n",
    "        # Calculate IQR\n",
    "        Q1 = df[col].quantile(0.25)\n",
    "        Q3 = df[col].quantile(0.75)\n",
    "        IQR = Q3 - Q1\n",
    "        \n",
    "        # Define outlier bounds\n",
    "        lower_bound = Q1 - 1.5 * IQR\n",
    "        upper_bound = Q3 + 1.5 * IQR\n",
    "        \n",
    "        # Count outliers\n",
    "        outliers = df[(df[col] < lower_bound) | (df[col] > upper_bound)][col]\n",
    "        \n",
    "        print(f\"\\nOutliers in {col}:\")\n",
    "        print(f\"Number of outliers: {len(outliers)}\")\n",
    "        print(f\"Percentage of outliers: {(len(outliers)/len(df))*100:.2f}%\")\n",
    "        \n",
    "        # Box plot\n",
    "        plt.figure(figsize=(10, 6))\n",
    "        sns.boxplot(x=df[col])\n",
    "        plt.title(f'Box Plot of {col}')\n",
    "        plt.show()\n",
    "\n",
    "detect_outliers(df)"
   ]
  },
  {
   "cell_type": "markdown",
   "metadata": {},
   "source": [
    "## 7. Feature Engineering Insights"
   ]
  },
  {
   "cell_type": "code",
   "execution_count": null,
   "metadata": {},
   "source": [
    "# Analyze temporal patterns\n",
    "df['Shipment_Date'] = pd.to_datetime(df['Shipment Date'])\n",
    "df['day_of_week'] = df['Shipment_Date'].dt.day_name()\n",
    "df['month'] = df['Shipment_Date'].dt.month_name()\n",
    "\n",
    "# Plot delay patterns by day of week\n",
    "plt.figure(figsize=(12, 6))\n",
    "sns.barplot(data=df, x='day_of_week', y='Delayed', order=['Monday', 'Tuesday', 'Wednesday', 'Thursday', 'Friday', 'Saturday', 'Sunday'])\n",
    "plt.title('Delay Rate by Day of Week')\n",
    "plt.xticks(rotation=45)\n",
    "plt.tight_layout()\n",
    "plt.show()\n",
    "\n",
    "# Plot delay patterns by month\n",
    "plt.figure(figsize=(12, 6))\n",
    "sns.barplot(data=df, x='month', y='Delayed')\n",
    "plt.title('Delay Rate by Month')\n",
    "plt.xticks(rotation=45)\n",
    "plt.tight_layout()\n",
    "plt.show()"
   ]
  },
  {
   "cell_type": "markdown",
   "metadata": {},
   "source": [
    "## 8. Key Findings and Recommendations\n",
    "\n",
    "Based on the exploratory data analysis, here are the key findings:\n",
    "\n",
    "1. **Data Quality**:\n",
    "   - [To be filled after analysis]\n",
    "\n",
    "2. **Feature Importance**:\n",
    "   - [To be filled after analysis]\n",
    "\n",
    "3. **Patterns and Relationships**:\n",
    "   - [To be filled after analysis]\n",
    "\n",
    "4. **Recommendations for Model Development**:\n",
    "   - [To be filled after analysis]\n",
    "\n",
    "5. **Feature Engineering Suggestions**:\n",
    "   - [To be filled after analysis]"
   ]
  }
 ],
 "metadata": {
  "kernelspec": {
   "display_name": "Python 3",
   "language": "python",
   "name": "python3"
  },
  "language_info": {
   "codemirror_mode": {
    "name": "ipython",
    "version": 3
   },
   "file_extension": ".py",
   "mimetype": "text/x-python",
   "name": "python",
   "nbconvert_exporter": "python",
   "pygments_lexer": "ipython3",
   "version": "3.8.0"
  }
 },
 "nbformat": 4,
 "nbformat_minor": 4
}
